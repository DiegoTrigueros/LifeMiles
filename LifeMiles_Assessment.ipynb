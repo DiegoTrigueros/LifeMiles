{
  "nbformat": 4,
  "nbformat_minor": 0,
  "metadata": {
    "colab": {
      "name": "LifeMiles Assessment.ipynb",
      "provenance": [],
      "collapsed_sections": []
    },
    "kernelspec": {
      "name": "python3",
      "display_name": "Python 3"
    },
    "language_info": {
      "name": "python"
    }
  },
  "cells": [
    {
      "cell_type": "code",
      "metadata": {
        "id": "WjYpfrslsuHh"
      },
      "source": [
        "import pandas as pd\n",
        "import numpy as np\n",
        "import matplotlib.pyplot as plt\n",
        "import seaborn as sns\n",
        "import sklearn"
      ],
      "execution_count": null,
      "outputs": []
    },
    {
      "cell_type": "code",
      "metadata": {
        "colab": {
          "base_uri": "https://localhost:8080/",
          "height": 343
        },
        "id": "iOlyoblPs6Je",
        "outputId": "85eddf13-c323-4900-c915-f2e4b81f7d56"
      },
      "source": [
        "raw_dataset = pd.read_csv(\"/content/drive/MyDrive/Archivos/DS/LifeMiles/datos_entrenamiento_evaluacion.csv\")\n",
        "raw_dataset.head()"
      ],
      "execution_count": null,
      "outputs": [
        {
          "output_type": "execute_result",
          "data": {
            "text/html": [
              "<div>\n",
              "<style scoped>\n",
              "    .dataframe tbody tr th:only-of-type {\n",
              "        vertical-align: middle;\n",
              "    }\n",
              "\n",
              "    .dataframe tbody tr th {\n",
              "        vertical-align: top;\n",
              "    }\n",
              "\n",
              "    .dataframe thead th {\n",
              "        text-align: right;\n",
              "    }\n",
              "</style>\n",
              "<table border=\"1\" class=\"dataframe\">\n",
              "  <thead>\n",
              "    <tr style=\"text-align: right;\">\n",
              "      <th></th>\n",
              "      <th>id</th>\n",
              "      <th>nombre_carro</th>\n",
              "      <th>anno_fab</th>\n",
              "      <th>combustible</th>\n",
              "      <th>kms_recorridos</th>\n",
              "      <th>precio</th>\n",
              "      <th>ciudad</th>\n",
              "      <th>visitas</th>\n",
              "      <th>tipo</th>\n",
              "      <th>transmision</th>\n",
              "      <th>motor</th>\n",
              "      <th>asegurado</th>\n",
              "      <th>ciudad_registro</th>\n",
              "      <th>estado_registro</th>\n",
              "      <th>mayor_venta</th>\n",
              "      <th>oficina_registro</th>\n",
              "      <th>metodo_venta</th>\n",
              "      <th>marca</th>\n",
              "      <th>modelo</th>\n",
              "      <th>disponibilidad</th>\n",
              "      <th>comprados</th>\n",
              "      <th>precio_cotizacion</th>\n",
              "      <th>precio_original</th>\n",
              "      <th>calificacion</th>\n",
              "      <th>fecha_venta</th>\n",
              "      <th>certificado</th>\n",
              "      <th>cuota</th>\n",
              "      <th>prima</th>\n",
              "      <th>estado_reserva</th>\n",
              "      <th>garantia</th>\n",
              "    </tr>\n",
              "  </thead>\n",
              "  <tbody>\n",
              "    <tr>\n",
              "      <th>0</th>\n",
              "      <td>1</td>\n",
              "      <td>maruti swift</td>\n",
              "      <td>2015</td>\n",
              "      <td>gasolina</td>\n",
              "      <td>8063</td>\n",
              "      <td>386399</td>\n",
              "      <td>noida</td>\n",
              "      <td>18715</td>\n",
              "      <td>hatchback</td>\n",
              "      <td>manual</td>\n",
              "      <td>lxi opt</td>\n",
              "      <td>True</td>\n",
              "      <td>delhi</td>\n",
              "      <td>delhi</td>\n",
              "      <td>True</td>\n",
              "      <td>dl6c</td>\n",
              "      <td>inperson_sale</td>\n",
              "      <td>maruti</td>\n",
              "      <td>swift</td>\n",
              "      <td>in_stock</td>\n",
              "      <td>2</td>\n",
              "      <td>397677</td>\n",
              "      <td>404177.0</td>\n",
              "      <td>great</td>\n",
              "      <td>2021-04-04T07:09:18.583</td>\n",
              "      <td>True</td>\n",
              "      <td>8975</td>\n",
              "      <td>57960</td>\n",
              "      <td>False</td>\n",
              "      <td>False</td>\n",
              "    </tr>\n",
              "    <tr>\n",
              "      <th>1</th>\n",
              "      <td>2</td>\n",
              "      <td>maruti alto 800</td>\n",
              "      <td>2016</td>\n",
              "      <td>gasolina</td>\n",
              "      <td>23104</td>\n",
              "      <td>265499</td>\n",
              "      <td>noida</td>\n",
              "      <td>2676</td>\n",
              "      <td>hatchback</td>\n",
              "      <td>manual</td>\n",
              "      <td>lxi</td>\n",
              "      <td>True</td>\n",
              "      <td>noida</td>\n",
              "      <td>uttar pradesh</td>\n",
              "      <td>True</td>\n",
              "      <td>up16</td>\n",
              "      <td>inperson_sale</td>\n",
              "      <td>maruti</td>\n",
              "      <td>alto 800</td>\n",
              "      <td>in_stock</td>\n",
              "      <td>1</td>\n",
              "      <td>272935</td>\n",
              "      <td>354313.0</td>\n",
              "      <td>great</td>\n",
              "      <td>2021-03-22T14:07:32.833</td>\n",
              "      <td>True</td>\n",
              "      <td>6167</td>\n",
              "      <td>39825</td>\n",
              "      <td>False</td>\n",
              "      <td>False</td>\n",
              "    </tr>\n",
              "    <tr>\n",
              "      <th>2</th>\n",
              "      <td>3</td>\n",
              "      <td>hyundai grand i10</td>\n",
              "      <td>2017</td>\n",
              "      <td>gasolina</td>\n",
              "      <td>23402</td>\n",
              "      <td>477699</td>\n",
              "      <td>noida</td>\n",
              "      <td>609</td>\n",
              "      <td>hatchback</td>\n",
              "      <td>manual</td>\n",
              "      <td>sports 1.2 vtvt</td>\n",
              "      <td>True</td>\n",
              "      <td>agra</td>\n",
              "      <td>uttar pradesh</td>\n",
              "      <td>True</td>\n",
              "      <td>up80</td>\n",
              "      <td>inperson_sale</td>\n",
              "      <td>hyundai</td>\n",
              "      <td>grand i10</td>\n",
              "      <td>in_stock</td>\n",
              "      <td>1</td>\n",
              "      <td>469605</td>\n",
              "      <td>NaN</td>\n",
              "      <td>great</td>\n",
              "      <td>2021-03-20T05:36:31.311</td>\n",
              "      <td>True</td>\n",
              "      <td>11096</td>\n",
              "      <td>71655</td>\n",
              "      <td>False</td>\n",
              "      <td>False</td>\n",
              "    </tr>\n",
              "    <tr>\n",
              "      <th>3</th>\n",
              "      <td>4</td>\n",
              "      <td>maruti swift</td>\n",
              "      <td>2013</td>\n",
              "      <td>diesel</td>\n",
              "      <td>39124</td>\n",
              "      <td>307999</td>\n",
              "      <td>noida</td>\n",
              "      <td>6511</td>\n",
              "      <td>hatchback</td>\n",
              "      <td>manual</td>\n",
              "      <td>vdi</td>\n",
              "      <td>True</td>\n",
              "      <td>delhi</td>\n",
              "      <td>delhi</td>\n",
              "      <td>True</td>\n",
              "      <td>dl1c</td>\n",
              "      <td>inperson_sale</td>\n",
              "      <td>maruti</td>\n",
              "      <td>swift</td>\n",
              "      <td>in_stock</td>\n",
              "      <td>1</td>\n",
              "      <td>294262</td>\n",
              "      <td>374326.0</td>\n",
              "      <td>great</td>\n",
              "      <td>2021-01-21T12:59:19.299</td>\n",
              "      <td>True</td>\n",
              "      <td>7154</td>\n",
              "      <td>46200</td>\n",
              "      <td>False</td>\n",
              "      <td>False</td>\n",
              "    </tr>\n",
              "    <tr>\n",
              "      <th>4</th>\n",
              "      <td>5</td>\n",
              "      <td>hyundai grand i10</td>\n",
              "      <td>2015</td>\n",
              "      <td>gasolina</td>\n",
              "      <td>22116</td>\n",
              "      <td>361499</td>\n",
              "      <td>noida</td>\n",
              "      <td>3225</td>\n",
              "      <td>hatchback</td>\n",
              "      <td>manual</td>\n",
              "      <td>magna 1.2 vtvt</td>\n",
              "      <td>False</td>\n",
              "      <td>new delhi</td>\n",
              "      <td>delhi</td>\n",
              "      <td>True</td>\n",
              "      <td>dl12</td>\n",
              "      <td>inperson_sale</td>\n",
              "      <td>hyundai</td>\n",
              "      <td>grand i10</td>\n",
              "      <td>in_stock</td>\n",
              "      <td>1</td>\n",
              "      <td>360716</td>\n",
              "      <td>367216.0</td>\n",
              "      <td>great</td>\n",
              "      <td>2021-04-01T13:33:40.733</td>\n",
              "      <td>True</td>\n",
              "      <td>8397</td>\n",
              "      <td>54225</td>\n",
              "      <td>False</td>\n",
              "      <td>False</td>\n",
              "    </tr>\n",
              "  </tbody>\n",
              "</table>\n",
              "</div>"
            ],
            "text/plain": [
              "   id       nombre_carro  anno_fab  ...  prima  estado_reserva  garantia\n",
              "0   1       maruti swift      2015  ...  57960           False     False\n",
              "1   2    maruti alto 800      2016  ...  39825           False     False\n",
              "2   3  hyundai grand i10      2017  ...  71655           False     False\n",
              "3   4       maruti swift      2013  ...  46200           False     False\n",
              "4   5  hyundai grand i10      2015  ...  54225           False     False\n",
              "\n",
              "[5 rows x 30 columns]"
            ]
          },
          "metadata": {},
          "execution_count": 2
        }
      ]
    },
    {
      "cell_type": "code",
      "metadata": {
        "colab": {
          "base_uri": "https://localhost:8080/"
        },
        "id": "X7tyvSKEtV6Y",
        "outputId": "e4f23858-5255-4240-d0c2-abedb8f4c037"
      },
      "source": [
        "  raw_dataset.isnull().sum()"
      ],
      "execution_count": null,
      "outputs": [
        {
          "output_type": "execute_result",
          "data": {
            "text/plain": [
              "id                      0\n",
              "nombre_carro            0\n",
              "anno_fab                0\n",
              "combustible             0\n",
              "kms_recorridos          0\n",
              "precio                  0\n",
              "ciudad                  0\n",
              "visitas                 0\n",
              "tipo                   90\n",
              "transmision           474\n",
              "motor                   0\n",
              "asegurado               0\n",
              "ciudad_registro         8\n",
              "estado_registro         8\n",
              "mayor_venta             0\n",
              "oficina_registro        0\n",
              "metodo_venta          114\n",
              "marca                   0\n",
              "modelo                  0\n",
              "disponibilidad        542\n",
              "comprados               0\n",
              "precio_cotizacion       0\n",
              "precio_original      2824\n",
              "calificacion            7\n",
              "fecha_venta             1\n",
              "certificado             8\n",
              "cuota                   0\n",
              "prima                   0\n",
              "estado_reserva          0\n",
              "garantia                0\n",
              "dtype: int64"
            ]
          },
          "metadata": {},
          "execution_count": 3
        }
      ]
    },
    {
      "cell_type": "code",
      "metadata": {
        "colab": {
          "base_uri": "https://localhost:8080/",
          "height": 343
        },
        "id": "9qos5cGHtq5k",
        "outputId": "bfe46dc6-987a-4dc0-95dc-6095920fde0f"
      },
      "source": [
        "dataset_copy = raw_dataset.copy()\n",
        "\n",
        "dataset_copy['uso'] = dataset_copy['kms_recorridos'].div(dataset_copy['anno_fab'].values)\n",
        "dataset_copy.head()"
      ],
      "execution_count": null,
      "outputs": [
        {
          "output_type": "execute_result",
          "data": {
            "text/html": [
              "<div>\n",
              "<style scoped>\n",
              "    .dataframe tbody tr th:only-of-type {\n",
              "        vertical-align: middle;\n",
              "    }\n",
              "\n",
              "    .dataframe tbody tr th {\n",
              "        vertical-align: top;\n",
              "    }\n",
              "\n",
              "    .dataframe thead th {\n",
              "        text-align: right;\n",
              "    }\n",
              "</style>\n",
              "<table border=\"1\" class=\"dataframe\">\n",
              "  <thead>\n",
              "    <tr style=\"text-align: right;\">\n",
              "      <th></th>\n",
              "      <th>id</th>\n",
              "      <th>nombre_carro</th>\n",
              "      <th>anno_fab</th>\n",
              "      <th>combustible</th>\n",
              "      <th>kms_recorridos</th>\n",
              "      <th>precio</th>\n",
              "      <th>ciudad</th>\n",
              "      <th>visitas</th>\n",
              "      <th>tipo</th>\n",
              "      <th>transmision</th>\n",
              "      <th>motor</th>\n",
              "      <th>asegurado</th>\n",
              "      <th>ciudad_registro</th>\n",
              "      <th>estado_registro</th>\n",
              "      <th>mayor_venta</th>\n",
              "      <th>oficina_registro</th>\n",
              "      <th>metodo_venta</th>\n",
              "      <th>marca</th>\n",
              "      <th>modelo</th>\n",
              "      <th>disponibilidad</th>\n",
              "      <th>comprados</th>\n",
              "      <th>precio_cotizacion</th>\n",
              "      <th>precio_original</th>\n",
              "      <th>calificacion</th>\n",
              "      <th>fecha_venta</th>\n",
              "      <th>certificado</th>\n",
              "      <th>cuota</th>\n",
              "      <th>prima</th>\n",
              "      <th>estado_reserva</th>\n",
              "      <th>garantia</th>\n",
              "      <th>uso</th>\n",
              "    </tr>\n",
              "  </thead>\n",
              "  <tbody>\n",
              "    <tr>\n",
              "      <th>0</th>\n",
              "      <td>1</td>\n",
              "      <td>maruti swift</td>\n",
              "      <td>2015</td>\n",
              "      <td>gasolina</td>\n",
              "      <td>8063</td>\n",
              "      <td>386399</td>\n",
              "      <td>noida</td>\n",
              "      <td>18715</td>\n",
              "      <td>hatchback</td>\n",
              "      <td>manual</td>\n",
              "      <td>lxi opt</td>\n",
              "      <td>True</td>\n",
              "      <td>delhi</td>\n",
              "      <td>delhi</td>\n",
              "      <td>True</td>\n",
              "      <td>dl6c</td>\n",
              "      <td>inperson_sale</td>\n",
              "      <td>maruti</td>\n",
              "      <td>swift</td>\n",
              "      <td>in_stock</td>\n",
              "      <td>2</td>\n",
              "      <td>397677</td>\n",
              "      <td>404177.0</td>\n",
              "      <td>great</td>\n",
              "      <td>2021-04-04T07:09:18.583</td>\n",
              "      <td>True</td>\n",
              "      <td>8975</td>\n",
              "      <td>57960</td>\n",
              "      <td>False</td>\n",
              "      <td>False</td>\n",
              "      <td>4.001489</td>\n",
              "    </tr>\n",
              "    <tr>\n",
              "      <th>1</th>\n",
              "      <td>2</td>\n",
              "      <td>maruti alto 800</td>\n",
              "      <td>2016</td>\n",
              "      <td>gasolina</td>\n",
              "      <td>23104</td>\n",
              "      <td>265499</td>\n",
              "      <td>noida</td>\n",
              "      <td>2676</td>\n",
              "      <td>hatchback</td>\n",
              "      <td>manual</td>\n",
              "      <td>lxi</td>\n",
              "      <td>True</td>\n",
              "      <td>noida</td>\n",
              "      <td>uttar pradesh</td>\n",
              "      <td>True</td>\n",
              "      <td>up16</td>\n",
              "      <td>inperson_sale</td>\n",
              "      <td>maruti</td>\n",
              "      <td>alto 800</td>\n",
              "      <td>in_stock</td>\n",
              "      <td>1</td>\n",
              "      <td>272935</td>\n",
              "      <td>354313.0</td>\n",
              "      <td>great</td>\n",
              "      <td>2021-03-22T14:07:32.833</td>\n",
              "      <td>True</td>\n",
              "      <td>6167</td>\n",
              "      <td>39825</td>\n",
              "      <td>False</td>\n",
              "      <td>False</td>\n",
              "      <td>11.460317</td>\n",
              "    </tr>\n",
              "    <tr>\n",
              "      <th>2</th>\n",
              "      <td>3</td>\n",
              "      <td>hyundai grand i10</td>\n",
              "      <td>2017</td>\n",
              "      <td>gasolina</td>\n",
              "      <td>23402</td>\n",
              "      <td>477699</td>\n",
              "      <td>noida</td>\n",
              "      <td>609</td>\n",
              "      <td>hatchback</td>\n",
              "      <td>manual</td>\n",
              "      <td>sports 1.2 vtvt</td>\n",
              "      <td>True</td>\n",
              "      <td>agra</td>\n",
              "      <td>uttar pradesh</td>\n",
              "      <td>True</td>\n",
              "      <td>up80</td>\n",
              "      <td>inperson_sale</td>\n",
              "      <td>hyundai</td>\n",
              "      <td>grand i10</td>\n",
              "      <td>in_stock</td>\n",
              "      <td>1</td>\n",
              "      <td>469605</td>\n",
              "      <td>NaN</td>\n",
              "      <td>great</td>\n",
              "      <td>2021-03-20T05:36:31.311</td>\n",
              "      <td>True</td>\n",
              "      <td>11096</td>\n",
              "      <td>71655</td>\n",
              "      <td>False</td>\n",
              "      <td>False</td>\n",
              "      <td>11.602380</td>\n",
              "    </tr>\n",
              "    <tr>\n",
              "      <th>3</th>\n",
              "      <td>4</td>\n",
              "      <td>maruti swift</td>\n",
              "      <td>2013</td>\n",
              "      <td>diesel</td>\n",
              "      <td>39124</td>\n",
              "      <td>307999</td>\n",
              "      <td>noida</td>\n",
              "      <td>6511</td>\n",
              "      <td>hatchback</td>\n",
              "      <td>manual</td>\n",
              "      <td>vdi</td>\n",
              "      <td>True</td>\n",
              "      <td>delhi</td>\n",
              "      <td>delhi</td>\n",
              "      <td>True</td>\n",
              "      <td>dl1c</td>\n",
              "      <td>inperson_sale</td>\n",
              "      <td>maruti</td>\n",
              "      <td>swift</td>\n",
              "      <td>in_stock</td>\n",
              "      <td>1</td>\n",
              "      <td>294262</td>\n",
              "      <td>374326.0</td>\n",
              "      <td>great</td>\n",
              "      <td>2021-01-21T12:59:19.299</td>\n",
              "      <td>True</td>\n",
              "      <td>7154</td>\n",
              "      <td>46200</td>\n",
              "      <td>False</td>\n",
              "      <td>False</td>\n",
              "      <td>19.435668</td>\n",
              "    </tr>\n",
              "    <tr>\n",
              "      <th>4</th>\n",
              "      <td>5</td>\n",
              "      <td>hyundai grand i10</td>\n",
              "      <td>2015</td>\n",
              "      <td>gasolina</td>\n",
              "      <td>22116</td>\n",
              "      <td>361499</td>\n",
              "      <td>noida</td>\n",
              "      <td>3225</td>\n",
              "      <td>hatchback</td>\n",
              "      <td>manual</td>\n",
              "      <td>magna 1.2 vtvt</td>\n",
              "      <td>False</td>\n",
              "      <td>new delhi</td>\n",
              "      <td>delhi</td>\n",
              "      <td>True</td>\n",
              "      <td>dl12</td>\n",
              "      <td>inperson_sale</td>\n",
              "      <td>hyundai</td>\n",
              "      <td>grand i10</td>\n",
              "      <td>in_stock</td>\n",
              "      <td>1</td>\n",
              "      <td>360716</td>\n",
              "      <td>367216.0</td>\n",
              "      <td>great</td>\n",
              "      <td>2021-04-01T13:33:40.733</td>\n",
              "      <td>True</td>\n",
              "      <td>8397</td>\n",
              "      <td>54225</td>\n",
              "      <td>False</td>\n",
              "      <td>False</td>\n",
              "      <td>10.975682</td>\n",
              "    </tr>\n",
              "  </tbody>\n",
              "</table>\n",
              "</div>"
            ],
            "text/plain": [
              "   id       nombre_carro  anno_fab  ... estado_reserva  garantia        uso\n",
              "0   1       maruti swift      2015  ...          False     False   4.001489\n",
              "1   2    maruti alto 800      2016  ...          False     False  11.460317\n",
              "2   3  hyundai grand i10      2017  ...          False     False  11.602380\n",
              "3   4       maruti swift      2013  ...          False     False  19.435668\n",
              "4   5  hyundai grand i10      2015  ...          False     False  10.975682\n",
              "\n",
              "[5 rows x 31 columns]"
            ]
          },
          "metadata": {},
          "execution_count": 4
        }
      ]
    },
    {
      "cell_type": "code",
      "metadata": {
        "colab": {
          "base_uri": "https://localhost:8080/",
          "height": 312
        },
        "id": "L7PEOQzg52rH",
        "outputId": "1e00ca83-71c7-4f1a-8c1d-a34112d2901f"
      },
      "source": [
        "plt.title(\"Precio vs Uso\")\n",
        "sns.regplot(x=dataset_copy['uso'], y=dataset_copy['precio'],\n",
        "            scatter_kws={'alpha':0.3}, line_kws={'color':'orange'})"
      ],
      "execution_count": null,
      "outputs": [
        {
          "output_type": "execute_result",
          "data": {
            "text/plain": [
              "<matplotlib.axes._subplots.AxesSubplot at 0x7fab0d1eee10>"
            ]
          },
          "metadata": {},
          "execution_count": 72
        },
        {
          "output_type": "display_data",
          "data": {
            "image/png": "[encoded data removed]",
            "text/plain": [
              "<Figure size 432x288 with 1 Axes>"
            ]
          },
          "metadata": {
            "needs_background": "light"
          }
        }
      ]
    },
    {
      "cell_type": "code",
      "metadata": {
        "id": "KRnUU-2D6z97",
        "colab": {
          "base_uri": "https://localhost:8080/",
          "height": 269
        },
        "outputId": "d3a7fac3-27a7-44ca-e1ae-d05b201bc2d5"
      },
      "source": [
        "corr = dataset_copy.corr()\n",
        "\n",
        "corr.sort_values(by=['precio'], ascending=False, inplace=True)\n",
        "tmp_df = pd.DataFrame(corr['precio'], index=corr.index)\n",
        "\n",
        "sns.heatmap(tmp_df, annot=True, fmt=\"g\", cmap='viridis')\n",
        "plt.show()"
      ],
      "execution_count": null,
      "outputs": [
        {
          "output_type": "display_data",
          "data": {
            "image/png": "[encoded data removed]",
            "text/plain": [
              "<Figure size 432x288 with 2 Axes>"
            ]
          },
          "metadata": {
            "needs_background": "light"
          }
        }
      ]
    },
    {
      "cell_type": "code",
      "metadata": {
        "id": "yeOeJGBm3qeU"
      },
      "source": [
        "from sklearn.model_selection import train_test_split\n",
        "test_ratio = 0.10\n",
        "train_ratio = 0.80\n",
        "validation_ratio = 0.10\n",
        "\n",
        "\n",
        "X_train, X_test, y_train, y_test = train_test_split(X_prepared, car_labels, test_size=1-train_ratio, \n",
        "                                                    random_state=42)\n",
        "\n",
        "X_test, X_val, y_test, y_val = train_test_split(X_test, y_test, test_size=test_ratio/(test_ratio + validation_ratio), \n",
        "                                                    random_state=42)"
      ],
      "execution_count": null,
      "outputs": []
    },
    {
      "cell_type": "code",
      "metadata": {
        "id": "TRdCTAPdtpPe"
      },
      "source": [
        "non_null_data = dataset_copy.dropna()"
      ],
      "execution_count": null,
      "outputs": []
    },
    {
      "cell_type": "code",
      "metadata": {
        "id": "WCoUct73t8qU",
        "colab": {
          "base_uri": "https://localhost:8080/",
          "height": 558
        },
        "outputId": "1717c8c3-1043-4a92-bef2-dc08ab66ffff"
      },
      "source": [
        "reduced_train_data = non_null_data.drop([\"id\", \"nombre_carro\", \"ciudad\",\n",
        "                                             \"visitas\", \"ciudad_registro\",\n",
        "                                             \"estado_registro\", \"oficina_registro\",\n",
        "                                             \"fecha_venta\"], axis=1)\n",
        "reduced_train_data"
      ],
      "execution_count": null,
      "outputs": [
        {
          "output_type": "execute_result",
          "data": {
            "text/html": [
              "<div>\n",
              "<style scoped>\n",
              "    .dataframe tbody tr th:only-of-type {\n",
              "        vertical-align: middle;\n",
              "    }\n",
              "\n",
              "    .dataframe tbody tr th {\n",
              "        vertical-align: top;\n",
              "    }\n",
              "\n",
              "    .dataframe thead th {\n",
              "        text-align: right;\n",
              "    }\n",
              "</style>\n",
              "<table border=\"1\" class=\"dataframe\">\n",
              "  <thead>\n",
              "    <tr style=\"text-align: right;\">\n",
              "      <th></th>\n",
              "      <th>anno_fab</th>\n",
              "      <th>combustible</th>\n",
              "      <th>kms_recorridos</th>\n",
              "      <th>precio</th>\n",
              "      <th>tipo</th>\n",
              "      <th>transmision</th>\n",
              "      <th>motor</th>\n",
              "      <th>asegurado</th>\n",
              "      <th>mayor_venta</th>\n",
              "      <th>metodo_venta</th>\n",
              "      <th>marca</th>\n",
              "      <th>modelo</th>\n",
              "      <th>disponibilidad</th>\n",
              "      <th>comprados</th>\n",
              "      <th>precio_cotizacion</th>\n",
              "      <th>precio_original</th>\n",
              "      <th>calificacion</th>\n",
              "      <th>certificado</th>\n",
              "      <th>cuota</th>\n",
              "      <th>prima</th>\n",
              "      <th>estado_reserva</th>\n",
              "      <th>garantia</th>\n",
              "      <th>uso</th>\n",
              "    </tr>\n",
              "  </thead>\n",
              "  <tbody>\n",
              "    <tr>\n",
              "      <th>0</th>\n",
              "      <td>2015</td>\n",
              "      <td>gasolina</td>\n",
              "      <td>8063</td>\n",
              "      <td>386399</td>\n",
              "      <td>hatchback</td>\n",
              "      <td>manual</td>\n",
              "      <td>lxi opt</td>\n",
              "      <td>True</td>\n",
              "      <td>True</td>\n",
              "      <td>inperson_sale</td>\n",
              "      <td>maruti</td>\n",
              "      <td>swift</td>\n",
              "      <td>in_stock</td>\n",
              "      <td>2</td>\n",
              "      <td>397677</td>\n",
              "      <td>404177.0</td>\n",
              "      <td>great</td>\n",
              "      <td>True</td>\n",
              "      <td>8975</td>\n",
              "      <td>57960</td>\n",
              "      <td>False</td>\n",
              "      <td>False</td>\n",
              "      <td>4.001489</td>\n",
              "    </tr>\n",
              "    <tr>\n",
              "      <th>1</th>\n",
              "      <td>2016</td>\n",
              "      <td>gasolina</td>\n",
              "      <td>23104</td>\n",
              "      <td>265499</td>\n",
              "      <td>hatchback</td>\n",
              "      <td>manual</td>\n",
              "      <td>lxi</td>\n",
              "      <td>True</td>\n",
              "      <td>True</td>\n",
              "      <td>inperson_sale</td>\n",
              "      <td>maruti</td>\n",
              "      <td>alto 800</td>\n",
              "      <td>in_stock</td>\n",
              "      <td>1</td>\n",
              "      <td>272935</td>\n",
              "      <td>354313.0</td>\n",
              "      <td>great</td>\n",
              "      <td>True</td>\n",
              "      <td>6167</td>\n",
              "      <td>39825</td>\n",
              "      <td>False</td>\n",
              "      <td>False</td>\n",
              "      <td>11.460317</td>\n",
              "    </tr>\n",
              "    <tr>\n",
              "      <th>3</th>\n",
              "      <td>2013</td>\n",
              "      <td>diesel</td>\n",
              "      <td>39124</td>\n",
              "      <td>307999</td>\n",
              "      <td>hatchback</td>\n",
              "      <td>manual</td>\n",
              "      <td>vdi</td>\n",
              "      <td>True</td>\n",
              "      <td>True</td>\n",
              "      <td>inperson_sale</td>\n",
              "      <td>maruti</td>\n",
              "      <td>swift</td>\n",
              "      <td>in_stock</td>\n",
              "      <td>1</td>\n",
              "      <td>294262</td>\n",
              "      <td>374326.0</td>\n",
              "      <td>great</td>\n",
              "      <td>True</td>\n",
              "      <td>7154</td>\n",
              "      <td>46200</td>\n",
              "      <td>False</td>\n",
              "      <td>False</td>\n",
              "      <td>19.435668</td>\n",
              "    </tr>\n",
              "    <tr>\n",
              "      <th>4</th>\n",
              "      <td>2015</td>\n",
              "      <td>gasolina</td>\n",
              "      <td>22116</td>\n",
              "      <td>361499</td>\n",
              "      <td>hatchback</td>\n",
              "      <td>manual</td>\n",
              "      <td>magna 1.2 vtvt</td>\n",
              "      <td>False</td>\n",
              "      <td>True</td>\n",
              "      <td>inperson_sale</td>\n",
              "      <td>hyundai</td>\n",
              "      <td>grand i10</td>\n",
              "      <td>in_stock</td>\n",
              "      <td>1</td>\n",
              "      <td>360716</td>\n",
              "      <td>367216.0</td>\n",
              "      <td>great</td>\n",
              "      <td>True</td>\n",
              "      <td>8397</td>\n",
              "      <td>54225</td>\n",
              "      <td>False</td>\n",
              "      <td>False</td>\n",
              "      <td>10.975682</td>\n",
              "    </tr>\n",
              "    <tr>\n",
              "      <th>7</th>\n",
              "      <td>2012</td>\n",
              "      <td>gasolina</td>\n",
              "      <td>38328</td>\n",
              "      <td>321499</td>\n",
              "      <td>hatchback</td>\n",
              "      <td>manual</td>\n",
              "      <td>asta 1.2</td>\n",
              "      <td>True</td>\n",
              "      <td>True</td>\n",
              "      <td>inperson_sale</td>\n",
              "      <td>hyundai</td>\n",
              "      <td>i20</td>\n",
              "      <td>in_stock</td>\n",
              "      <td>3</td>\n",
              "      <td>319200</td>\n",
              "      <td>410764.0</td>\n",
              "      <td>great</td>\n",
              "      <td>True</td>\n",
              "      <td>7468</td>\n",
              "      <td>48225</td>\n",
              "      <td>False</td>\n",
              "      <td>False</td>\n",
              "      <td>19.049702</td>\n",
              "    </tr>\n",
              "    <tr>\n",
              "      <th>...</th>\n",
              "      <td>...</td>\n",
              "      <td>...</td>\n",
              "      <td>...</td>\n",
              "      <td>...</td>\n",
              "      <td>...</td>\n",
              "      <td>...</td>\n",
              "      <td>...</td>\n",
              "      <td>...</td>\n",
              "      <td>...</td>\n",
              "      <td>...</td>\n",
              "      <td>...</td>\n",
              "      <td>...</td>\n",
              "      <td>...</td>\n",
              "      <td>...</td>\n",
              "      <td>...</td>\n",
              "      <td>...</td>\n",
              "      <td>...</td>\n",
              "      <td>...</td>\n",
              "      <td>...</td>\n",
              "      <td>...</td>\n",
              "      <td>...</td>\n",
              "      <td>...</td>\n",
              "      <td>...</td>\n",
              "    </tr>\n",
              "    <tr>\n",
              "      <th>6381</th>\n",
              "      <td>2017</td>\n",
              "      <td>diesel</td>\n",
              "      <td>20888</td>\n",
              "      <td>477299</td>\n",
              "      <td>hatchback</td>\n",
              "      <td>manual</td>\n",
              "      <td>sportz1.2 crdi</td>\n",
              "      <td>True</td>\n",
              "      <td>True</td>\n",
              "      <td>inperson_sale</td>\n",
              "      <td>hyundai</td>\n",
              "      <td>grand i10</td>\n",
              "      <td>in_stock</td>\n",
              "      <td>1</td>\n",
              "      <td>460467</td>\n",
              "      <td>562435.0</td>\n",
              "      <td>great</td>\n",
              "      <td>True</td>\n",
              "      <td>11086</td>\n",
              "      <td>71595</td>\n",
              "      <td>True</td>\n",
              "      <td>False</td>\n",
              "      <td>10.355974</td>\n",
              "    </tr>\n",
              "    <tr>\n",
              "      <th>6382</th>\n",
              "      <td>2016</td>\n",
              "      <td>diesel</td>\n",
              "      <td>41739</td>\n",
              "      <td>537999</td>\n",
              "      <td>sedan</td>\n",
              "      <td>manual</td>\n",
              "      <td>vdi opt</td>\n",
              "      <td>True</td>\n",
              "      <td>True</td>\n",
              "      <td>inperson_sale</td>\n",
              "      <td>maruti</td>\n",
              "      <td>swift dzire</td>\n",
              "      <td>in_stock</td>\n",
              "      <td>1</td>\n",
              "      <td>548960</td>\n",
              "      <td>673053.0</td>\n",
              "      <td>great</td>\n",
              "      <td>True</td>\n",
              "      <td>12496</td>\n",
              "      <td>80700</td>\n",
              "      <td>True</td>\n",
              "      <td>False</td>\n",
              "      <td>20.703869</td>\n",
              "    </tr>\n",
              "    <tr>\n",
              "      <th>6385</th>\n",
              "      <td>2019</td>\n",
              "      <td>gasolina</td>\n",
              "      <td>55048</td>\n",
              "      <td>380799</td>\n",
              "      <td>hatchback</td>\n",
              "      <td>manual</td>\n",
              "      <td>sigma 1.2 k12</td>\n",
              "      <td>True</td>\n",
              "      <td>True</td>\n",
              "      <td>inperson_sale</td>\n",
              "      <td>maruti</td>\n",
              "      <td>ignis</td>\n",
              "      <td>in_stock</td>\n",
              "      <td>1</td>\n",
              "      <td>364200</td>\n",
              "      <td>454738.0</td>\n",
              "      <td>great</td>\n",
              "      <td>True</td>\n",
              "      <td>8845</td>\n",
              "      <td>57120</td>\n",
              "      <td>True</td>\n",
              "      <td>False</td>\n",
              "      <td>27.264983</td>\n",
              "    </tr>\n",
              "    <tr>\n",
              "      <th>6386</th>\n",
              "      <td>2018</td>\n",
              "      <td>gasolina</td>\n",
              "      <td>43035</td>\n",
              "      <td>315899</td>\n",
              "      <td>hatchback</td>\n",
              "      <td>manual</td>\n",
              "      <td>1.0 rxt</td>\n",
              "      <td>True</td>\n",
              "      <td>True</td>\n",
              "      <td>inperson_sale</td>\n",
              "      <td>renault</td>\n",
              "      <td>kwid</td>\n",
              "      <td>in_stock</td>\n",
              "      <td>1</td>\n",
              "      <td>283282</td>\n",
              "      <td>358430.0</td>\n",
              "      <td>good</td>\n",
              "      <td>True</td>\n",
              "      <td>7338</td>\n",
              "      <td>47385</td>\n",
              "      <td>True</td>\n",
              "      <td>False</td>\n",
              "      <td>21.325570</td>\n",
              "    </tr>\n",
              "    <tr>\n",
              "      <th>6387</th>\n",
              "      <td>2015</td>\n",
              "      <td>diesel</td>\n",
              "      <td>148250</td>\n",
              "      <td>531399</td>\n",
              "      <td>sedan</td>\n",
              "      <td>manual</td>\n",
              "      <td>fluidic 1.6 sx crdi</td>\n",
              "      <td>True</td>\n",
              "      <td>True</td>\n",
              "      <td>inperson_sale</td>\n",
              "      <td>hyundai</td>\n",
              "      <td>verna</td>\n",
              "      <td>in_stock</td>\n",
              "      <td>2</td>\n",
              "      <td>519315</td>\n",
              "      <td>633876.0</td>\n",
              "      <td>great</td>\n",
              "      <td>True</td>\n",
              "      <td>12343</td>\n",
              "      <td>79710</td>\n",
              "      <td>True</td>\n",
              "      <td>False</td>\n",
              "      <td>73.573201</td>\n",
              "    </tr>\n",
              "  </tbody>\n",
              "</table>\n",
              "<p>3163 rows × 23 columns</p>\n",
              "</div>"
            ],
            "text/plain": [
              "      anno_fab combustible  kms_recorridos  ...  estado_reserva garantia        uso\n",
              "0         2015    gasolina            8063  ...           False    False   4.001489\n",
              "1         2016    gasolina           23104  ...           False    False  11.460317\n",
              "3         2013      diesel           39124  ...           False    False  19.435668\n",
              "4         2015    gasolina           22116  ...           False    False  10.975682\n",
              "7         2012    gasolina           38328  ...           False    False  19.049702\n",
              "...        ...         ...             ...  ...             ...      ...        ...\n",
              "6381      2017      diesel           20888  ...            True    False  10.355974\n",
              "6382      2016      diesel           41739  ...            True    False  20.703869\n",
              "6385      2019    gasolina           55048  ...            True    False  27.264983\n",
              "6386      2018    gasolina           43035  ...            True    False  21.325570\n",
              "6387      2015      diesel          148250  ...            True    False  73.573201\n",
              "\n",
              "[3163 rows x 23 columns]"
            ]
          },
          "metadata": {},
          "execution_count": 8
        }
      ]
    },
    {
      "cell_type": "code",
      "metadata": {
        "id": "reOzOhlJFQlX"
      },
      "source": [
        "reduced_train_data.drop(['uso'], axis=1, inplace=True)"
      ],
      "execution_count": null,
      "outputs": []
    },
    {
      "cell_type": "code",
      "metadata": {
        "id": "Y4PZIk7cFocL"
      },
      "source": [
        "# TODO: Pipeline de transformaciones, ordenar pasos, graficar entrenamientos"
      ],
      "execution_count": null,
      "outputs": []
    },
    {
      "cell_type": "code",
      "metadata": {
        "id": "E4mB7KRHkafA"
      },
      "source": [
        " "
      ],
      "execution_count": null,
      "outputs": []
    },
    {
      "cell_type": "code",
      "metadata": {
        "id": "OsyWNJjacMlw"
      },
      "source": [
        "from sklearn.base import BaseEstimator, TransformerMixin\n",
        "from sklearn.pipeline import Pipeline, FeatureUnion\n",
        "from sklearn.preprocessing import OneHotEncoder, StandardScaler\n",
        "from sklearn.impute import SimpleImputer\n",
        "\n",
        "imputer = SimpleImputer(strategy='median')\n",
        "cat_attribs = [\"combustible\", \"tipo\", \"motor\", \"metodo_venta\", \"modelo\",\n",
        "                  \"marca\", \"transmision\", \"disponibilidad\", \"calificacion\"]\n",
        "\n",
        "num_attribs = ['anno_fab', 'kms_recorridos', 'comprados',\n",
        "                           'precio_cotizacion', 'precio_original', 'cuota',\n",
        "                           'prima']\n",
        "\n",
        "class DataFrameSelector(BaseEstimator, TransformerMixin):\n",
        "  def __init__(self, attribute_names):\n",
        "    self.attribute_names = attribute_names\n",
        "\n",
        "  def fit(self, X, y=None):\n",
        "    return self\n",
        "  \n",
        "  def transform(self, X):\n",
        "    return X[self.attribute_names].values\n",
        "\n",
        "num_pipeline = Pipeline([\n",
        "                         ('selector', DataFrameSelector(num_attribs)),\n",
        "                         ('imputer', imputer),\n",
        "                         ('std_scaler', StandardScaler())\n",
        "])\n",
        "\n",
        "cat_pipeline = Pipeline([\n",
        "                         ('selector', DataFrameSelector(cat_attribs)),\n",
        "                         ('imputer', SimpleImputer(strategy='most_frequent')),\n",
        "                         ('cat_encoder', OneHotEncoder(sparse=False,\n",
        "                                                       handle_unknown='ignore'))\n",
        "])\n",
        "\n",
        "full_pipeline = FeatureUnion(transformer_list=[\n",
        "                          ('num_pipeline', num_pipeline),\n",
        "                          ('cat_pipeline', cat_pipeline)\n",
        "])"
      ],
      "execution_count": null,
      "outputs": []
    },
    {
      "cell_type": "code",
      "metadata": {
        "id": "1HoHeaniiFxC"
      },
      "source": [
        "X_prepared = full_pipeline.fit_transform(car_features)"
      ],
      "execution_count": null,
      "outputs": []
    },
    {
      "cell_type": "code",
      "metadata": {
        "colab": {
          "base_uri": "https://localhost:8080/"
        },
        "id": "xsjtYhXdBCau",
        "outputId": "bb000a99-8ef9-4690-ff11-2578a6675bb0"
      },
      "source": [
        "from sklearn.linear_model import LinearRegression\n",
        "lin_reg_clf = LinearRegression()\n",
        "lin_reg_clf.fit(X_train, y_train)"
      ],
      "execution_count": null,
      "outputs": [
        {
          "output_type": "execute_result",
          "data": {
            "text/plain": [
              "LinearRegression(copy_X=True, fit_intercept=True, n_jobs=None, normalize=False)"
            ]
          },
          "metadata": {},
          "execution_count": 38
        }
      ]
    },
    {
      "cell_type": "code",
      "metadata": {
        "colab": {
          "base_uri": "https://localhost:8080/"
        },
        "id": "58WfoQIdaGdH",
        "outputId": "74ff3934-ad8e-4614-a876-28e343c7e5a6"
      },
      "source": [
        "lin_reg_pred = lin_reg_clf.predict(X_test)\n",
        "lin_mse = mean_squared_error(y_test, lin_reg_pred)\n",
        "lin_rmse = np.sqrt(lin_mse)\n",
        "\n",
        "lin_rmse"
      ],
      "execution_count": null,
      "outputs": [
        {
          "output_type": "execute_result",
          "data": {
            "text/plain": [
              "1372625963.2420182"
            ]
          },
          "metadata": {},
          "execution_count": 44
        }
      ]
    },
    {
      "cell_type": "code",
      "metadata": {
        "id": "RU3JmKP2Aekp"
      },
      "source": [
        "from sklearn.svm import SVC\n",
        "svm_clf = SVC(gamma=\"auto\", random_state=42)\n",
        "svm_clf.fit(X_train, y_train)\n",
        "predictions = svm_clf.predict(X_test)"
      ],
      "execution_count": null,
      "outputs": []
    },
    {
      "cell_type": "code",
      "metadata": {
        "colab": {
          "base_uri": "https://localhost:8080/"
        },
        "id": "ByFTS_r0bMXI",
        "outputId": "bf88c7e5-1e9b-4653-940d-2db8b325bfef"
      },
      "source": [
        "svc_mse = mean_squared_error(y_test, predictions)\n",
        "svc_rmse = np.sqrt(svc_mse)\n",
        "\n",
        "svc_rmse"
      ],
      "execution_count": null,
      "outputs": [
        {
          "output_type": "execute_result",
          "data": {
            "text/plain": [
              "305058.4305201405"
            ]
          },
          "metadata": {},
          "execution_count": 46
        }
      ]
    },
    {
      "cell_type": "code",
      "metadata": {
        "colab": {
          "base_uri": "https://localhost:8080/"
        },
        "id": "CNbUcsSwj7s-",
        "outputId": "e8d989ae-07d9-407e-ca11-943cad6e0dab"
      },
      "source": [
        "from sklearn.ensemble import RandomForestRegressor\n",
        "from sklearn.model_selection import GridSearchCV\n",
        "\n",
        "forest_reg = RandomForestRegressor(random_state=42)\n",
        "param_grid = [\n",
        "              {'n_estimators': [3, 10, 30], 'max_features': ['auto', 'sqrt',\n",
        "                                                             'log2']},\n",
        "              {'n_estimators': [30, 60, 100], 'max_features': ['auto', 'sqrt',\n",
        "                                                             'log2']}\n",
        "              \n",
        "]\n",
        "\n",
        "grid_search = GridSearchCV(forest_reg, param_grid, cv=5,\n",
        "                           scoring='neg_mean_squared_error',\n",
        "                           return_train_score=True)\n",
        "grid_search.fit(X_train, y_train)"
      ],
      "execution_count": null,
      "outputs": [
        {
          "output_type": "execute_result",
          "data": {
            "text/plain": [
              "GridSearchCV(cv=5, error_score=nan,\n",
              "             estimator=RandomForestRegressor(bootstrap=True, ccp_alpha=0.0,\n",
              "                                             criterion='mse', max_depth=None,\n",
              "                                             max_features='auto',\n",
              "                                             max_leaf_nodes=None,\n",
              "                                             max_samples=None,\n",
              "                                             min_impurity_decrease=0.0,\n",
              "                                             min_impurity_split=None,\n",
              "                                             min_samples_leaf=1,\n",
              "                                             min_samples_split=2,\n",
              "                                             min_weight_fraction_leaf=0.0,\n",
              "                                             n_estimators=100, n_jobs=None,\n",
              "                                             oob_score=False, random_state=42,\n",
              "                                             verbose=0, warm_start=False),\n",
              "             iid='deprecated', n_jobs=None,\n",
              "             param_grid=[{'max_features': ['auto', 'sqrt', 'log2'],\n",
              "                          'n_estimators': [3, 10, 30]},\n",
              "                         {'max_features': ['auto', 'sqrt', 'log2'],\n",
              "                          'n_estimators': [30, 60, 100]}],\n",
              "             pre_dispatch='2*n_jobs', refit=True, return_train_score=True,\n",
              "             scoring='neg_mean_squared_error', verbose=0)"
            ]
          },
          "metadata": {},
          "execution_count": 28
        }
      ]
    },
    {
      "cell_type": "code",
      "metadata": {
        "colab": {
          "base_uri": "https://localhost:8080/"
        },
        "id": "LRSdySiAZpQG",
        "outputId": "a3cb795d-4bba-4ae6-ad4a-e58c4d7575c4"
      },
      "source": [
        "grid_search.best_params_, np.sqrt(-grid_search.best_score_)"
      ],
      "execution_count": null,
      "outputs": [
        {
          "output_type": "execute_result",
          "data": {
            "text/plain": [
              "({'max_features': 'auto', 'n_estimators': 10}, 15834.33272382685)"
            ]
          },
          "metadata": {},
          "execution_count": 33
        }
      ]
    },
    {
      "cell_type": "code",
      "metadata": {
        "colab": {
          "base_uri": "https://localhost:8080/",
          "height": 299
        },
        "id": "DcrjgjWylNdb",
        "outputId": "e8d14d48-8607-498a-a1b8-c2d7a08d2b4e"
      },
      "source": [
        "from sklearn.metrics import mean_squared_error\n",
        "from sklearn.linear_model import SGDRegressor\n",
        "from copy import deepcopy\n",
        "\n",
        "sgd_reg = SGDRegressor(max_iter=1, tol=-np.infty, warm_start=True,\n",
        "                       penalty=\"l2\", learning_rate=\"adaptive\", eta0=0.05, \n",
        "                       random_state=42, early_stopping=True)\n",
        "\n",
        "minimum_test_error = float(\"inf\")\n",
        "\n",
        "n_epochs = 1000\n",
        "train_errors, test_errors = [], []\n",
        "for epoch in range(n_epochs):\n",
        "    sgd_reg.fit(X_train, y_train)\n",
        "    y_train_predict = sgd_reg.predict(X_train)\n",
        "    y_test_predict = sgd_reg.predict(X_test)\n",
        "    train_errors.append(mean_squared_error(y_train, y_train_predict))\n",
        "    test_errors.append(mean_squared_error(y_test, y_test_predict))\n",
        "    test_error = mean_squared_error(y_test, y_test_predict)\n",
        "    if test_error < minimum_test_error:\n",
        "        minimum_test_error = test_error\n",
        "        best_epoch = epoch\n",
        "        best_model = deepcopy(sgd_reg)\n",
        "\n",
        "best_epoch = epoch\n",
        "best_test_rmse = np.sqrt(test_errors[best_epoch])\n",
        "plt.annotate('Best model',\n",
        "             xy=(best_epoch, best_test_rmse),\n",
        "             xytext=(best_epoch, best_test_rmse + 1),\n",
        "             ha=\"center\",\n",
        "             arrowprops=dict(facecolor='black', shrink=0.05),\n",
        "             fontsize=16,\n",
        "            )\n",
        "\n",
        "plt.title('SGD Regressor')\n",
        "plt.plot([0, n_epochs], [best_test_rmse, best_test_rmse], \"k:\", linewidth=2)\n",
        "plt.plot(np.sqrt(test_errors), \"b-\", linewidth=3, label=\"Validation set\")\n",
        "plt.plot(np.sqrt(train_errors), \"r--\", linewidth=2, label=\"Training set\")\n",
        "plt.legend(loc=\"upper right\", fontsize=14)\n",
        "plt.xlabel(\"Epoch\", fontsize=14)\n",
        "plt.ylabel(\"RMSE\", fontsize=14)\n",
        "plt.show()"
      ],
      "execution_count": null,
      "outputs": [
        {
          "output_type": "display_data",
          "data": {
            "image/png": "[encoded data removed]",
            "text/plain": [
              "<Figure size 432x288 with 1 Axes>"
            ]
          },
          "metadata": {
            "needs_background": "light"
          }
        }
      ]
    },
    {
      "cell_type": "code",
      "metadata": {
        "colab": {
          "base_uri": "https://localhost:8080/"
        },
        "id": "pKpJS-rHuTMA",
        "outputId": "3cab95e6-d7a6-4e88-8485-71007ba0b6d3"
      },
      "source": [
        "best_epoch, best_model, best_test_rmse\n",
        "\n",
        "val_predictions = sgd_reg.predict(X_val)\n",
        "sgd_val_mse = mean_squared_error(y_val, val_predictions)\n",
        "sgd_val_rmse = np.sqrt(sgd_val_mse)\n",
        "sgd_val_rmse, best_test_rmse\n",
        "\n",
        "# With 0.05 LR - 320\n",
        "# With 0.01 LR - \n",
        "# With 1000 epochs - 654\n",
        "# With 500 epochs - 915.89"
      ],
      "execution_count": null,
      "outputs": [
        {
          "output_type": "execute_result",
          "data": {
            "text/plain": [
              "(328.8062548506059, 307.5750557385438)"
            ]
          },
          "metadata": {},
          "execution_count": 22
        }
      ]
    },
    {
      "cell_type": "code",
      "metadata": {
        "colab": {
          "base_uri": "https://localhost:8080/"
        },
        "id": "U3NwWVOq1wII",
        "outputId": "0ea4b0b7-4436-47fb-cb72-b39d19c9089b"
      },
      "source": [
        "final_dataset = pd.read_csv(\"/content/drive/MyDrive/Archivos/DS/LifeMiles/datos_prueba_evaluacion.csv\")\n",
        "reduced_final_dataset = final_dataset.drop([\"id\", \"nombre_carro\", \"ciudad\",\n",
        "                                            \"visitas\", \"ciudad_registro\",\n",
        "                                            \"estado_registro\", \"oficina_registro\",\n",
        "                                            \"fecha_venta\"], axis=1)\n",
        "reduced_final_dataset[\"combustible\"] = reduced_final_dataset[reduced_final_dataset[\"combustible\"] != \"electrico\"]\n",
        "final_dataset.shape, raw_dataset.shape"
      ],
      "execution_count": null,
      "outputs": [
        {
          "output_type": "execute_result",
          "data": {
            "text/plain": [
              "((1000, 29), (6399, 30))"
            ]
          },
          "metadata": {},
          "execution_count": 48
        }
      ]
    },
    {
      "cell_type": "code",
      "metadata": {
        "colab": {
          "base_uri": "https://localhost:8080/"
        },
        "id": "W1yGridS2WOE",
        "outputId": "9a7b82b9-1bba-4032-dd75-d827ed88788e"
      },
      "source": [
        "X_final_prepared = full_pipeline.transform(reduced_final_dataset)\n",
        "\n",
        "X_final_prepared.shape, X_prepared.shape"
      ],
      "execution_count": null,
      "outputs": [
        {
          "output_type": "execute_result",
          "data": {
            "text/plain": [
              "((1000, 653), (3163, 653))"
            ]
          },
          "metadata": {},
          "execution_count": 63
        }
      ]
    },
    {
      "cell_type": "code",
      "metadata": {
        "id": "MhvVJiUd2e9C"
      },
      "source": [
        "final_predictions = sgd_reg.predict(X_final_prepared)"
      ],
      "execution_count": null,
      "outputs": []
    },
    {
      "cell_type": "code",
      "metadata": {
        "id": "xvgr94f226fD"
      },
      "source": [
        "complete_final_dataset = final_dataset.copy()\n",
        "complete_final_dataset[\"precio\"] = [int(i) for i in final_predictions]\n",
        "complete_final_dataset.to_csv(\"/content/drive/MyDrive/Archivos/DS/LifeMiles/datos_finales.csv\")"
      ],
      "execution_count": null,
      "outputs": []
    }
  ]
}